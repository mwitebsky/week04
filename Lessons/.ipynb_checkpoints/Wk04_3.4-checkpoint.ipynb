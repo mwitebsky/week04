{
 "cells": [
  {
   "cell_type": "code",
   "execution_count": 52,
   "metadata": {
    "collapsed": false
   },
   "outputs": [
    {
     "name": "stderr",
     "output_type": "stream",
     "text": [
      "/Users/mwitebsky/anaconda2/envs/lesson01/lib/python2.7/site-packages/sklearn/cross_validation.py:44: DeprecationWarning: This module was deprecated in version 0.18 in favor of the model_selection module into which all the refactored classes and functions are moved. Also note that the interface of the new CV iterators are different from that of this module. This module will be removed in 0.20.\n",
      "  \"This module will be removed in 0.20.\", DeprecationWarning)\n"
     ]
    }
   ],
   "source": [
    "import pandas as pd\n",
    "import seaborn as sns\n",
    "import matplotlib.pyplot as plt\n",
    "import json\n",
    "from sklearn.linear_model import LogisticRegression, LogisticRegressionCV\n",
    "from sklearn.cross_validation import cross_val_score, train_test_split\n",
    "from sklearn.preprocessing import scale\n",
    "from sklearn.metrics import confusion_matrix\n",
    "import numpy as np\n",
    "%matplotlib inline\n",
    "\n",
    "pd.options.display.max_columns = 50\n",
    "pd.options.display.max_colwidth = 300"
   ]
  },
  {
   "cell_type": "code",
   "execution_count": 7,
   "metadata": {
    "collapsed": true
   },
   "outputs": [],
   "source": [
    "df = pd.read_csv('../Assets/train.txt', '\\t', na_values={'is_news' : '?', 'alchemy_category_score' : '?',\n",
    "                                                         'news_front_page' : '?'}).fillna(0)"
   ]
  },
  {
   "cell_type": "code",
   "execution_count": 8,
   "metadata": {
    "collapsed": true
   },
   "outputs": [],
   "source": [
    "# Extract the title and body from the boilerplate JSON text\n",
    "df['title'] = df.boilerplate.map(lambda x: json.loads(x).get('title', ''))\n",
    "df['body'] = df.boilerplate.map(lambda x: json.loads(x).get('body', ''))\n",
    "df['alchemy_category'] = df['alchemy_category'].apply(lambda x: 'unknown' if x == '?' else x)\n",
    "df.drop('framebased', axis=1, inplace=True)"
   ]
  },
  {
   "cell_type": "code",
   "execution_count": 9,
   "metadata": {
    "collapsed": true
   },
   "outputs": [],
   "source": [
    "data = pd.get_dummies(df, columns= ['alchemy_category'])"
   ]
  },
  {
   "cell_type": "code",
   "execution_count": 21,
   "metadata": {
    "collapsed": false
   },
   "outputs": [
    {
     "data": {
      "text/plain": [
       "url                                     object\n",
       "urlid                                    int64\n",
       "boilerplate                             object\n",
       "alchemy_category_score                 float64\n",
       "avglinksize                            float64\n",
       "commonlinkratio_1                      float64\n",
       "commonlinkratio_2                      float64\n",
       "commonlinkratio_3                      float64\n",
       "commonlinkratio_4                      float64\n",
       "compression_ratio                      float64\n",
       "embed_ratio                            float64\n",
       "frameTagRatio                          float64\n",
       "hasDomainLink                            int64\n",
       "html_ratio                             float64\n",
       "image_ratio                            float64\n",
       "is_news                                float64\n",
       "lengthyLinkDomain                        int64\n",
       "linkwordscore                            int64\n",
       "news_front_page                        float64\n",
       "non_markup_alphanum_characters           int64\n",
       "numberOfLinks                            int64\n",
       "numwords_in_url                          int64\n",
       "parametrizedLinkRatio                  float64\n",
       "spelling_errors_ratio                  float64\n",
       "label                                    int64\n",
       "title                                   object\n",
       "body                                    object\n",
       "alchemy_category_arts_entertainment    float64\n",
       "alchemy_category_business              float64\n",
       "alchemy_category_computer_internet     float64\n",
       "alchemy_category_culture_politics      float64\n",
       "alchemy_category_gaming                float64\n",
       "alchemy_category_health                float64\n",
       "alchemy_category_law_crime             float64\n",
       "alchemy_category_recreation            float64\n",
       "alchemy_category_religion              float64\n",
       "alchemy_category_science_technology    float64\n",
       "alchemy_category_sports                float64\n",
       "alchemy_category_unknown               float64\n",
       "alchemy_category_weather               float64\n",
       "dtype: object"
      ]
     },
     "execution_count": 21,
     "metadata": {},
     "output_type": "execute_result"
    }
   ],
   "source": [
    "data.dtypes"
   ]
  },
  {
   "cell_type": "code",
   "execution_count": 35,
   "metadata": {
    "collapsed": false
   },
   "outputs": [
    {
     "data": {
      "text/plain": [
       "['frameTagRatio',\n",
       " 'linkwordscore',\n",
       " 'alchemy_category_sports',\n",
       " 'alchemy_category_computer_internet',\n",
       " 'alchemy_category_arts_entertainment',\n",
       " 'commonlinkratio_4',\n",
       " 'commonlinkratio_1',\n",
       " 'commonlinkratio_2',\n",
       " 'non_markup_alphanum_characters',\n",
       " 'commonlinkratio_3',\n",
       " 'alchemy_category_business',\n",
       " 'alchemy_category_recreation']"
      ]
     },
     "execution_count": 35,
     "metadata": {},
     "output_type": "execute_result"
    }
   ],
   "source": [
    "a = data.corr()['label'].sort_values()\n",
    "columns = list(a.index)\n",
    "good_columns = columns[0:5] + columns[-8:-1]\n",
    "good_columns\n",
    "\n"
   ]
  },
  {
   "cell_type": "code",
   "execution_count": 49,
   "metadata": {
    "collapsed": true
   },
   "outputs": [],
   "source": [
    "good_predictors = data[good_columns]"
   ]
  },
  {
   "cell_type": "code",
   "execution_count": 50,
   "metadata": {
    "collapsed": true
   },
   "outputs": [],
   "source": [
    "# pull features\n",
    "features_df = good_predictors\n",
    "# pull target and view split\n",
    "target_df = data['label']"
   ]
  },
  {
   "cell_type": "code",
   "execution_count": 54,
   "metadata": {
    "collapsed": false
   },
   "outputs": [],
   "source": [
    "x_train, x_test, y_train, y_test = train_test_split(features_df, target_df, test_size=0.33, random_state=5)"
   ]
  },
  {
   "cell_type": "code",
   "execution_count": 57,
   "metadata": {
    "collapsed": false
   },
   "outputs": [
    {
     "data": {
      "text/plain": [
       "0.65628840639082342"
      ]
     },
     "execution_count": 57,
     "metadata": {},
     "output_type": "execute_result"
    }
   ],
   "source": [
    "logit = LogisticRegression()\n",
    "\n",
    "x = features_df\n",
    "y = target_df\n",
    "\n",
    "logit.fit(x_train, y_train)\n",
    "logit.score(x_test, y_test)"
   ]
  },
  {
   "cell_type": "code",
   "execution_count": null,
   "metadata": {
    "collapsed": true
   },
   "outputs": [],
   "source": []
  },
  {
   "cell_type": "code",
   "execution_count": 58,
   "metadata": {
    "collapsed": false
   },
   "outputs": [],
   "source": [
    "y_pred = logit.predict(x)"
   ]
  },
  {
   "cell_type": "code",
   "execution_count": 59,
   "metadata": {
    "collapsed": false
   },
   "outputs": [
    {
     "data": {
      "text/html": [
       "<div>\n",
       "<table border=\"1\" class=\"dataframe\">\n",
       "  <thead>\n",
       "    <tr style=\"text-align: right;\">\n",
       "      <th></th>\n",
       "      <th>predicted_healthy</th>\n",
       "      <th>predicted_cancer</th>\n",
       "    </tr>\n",
       "  </thead>\n",
       "  <tbody>\n",
       "    <tr>\n",
       "      <th>is_healthy</th>\n",
       "      <td>2141</td>\n",
       "      <td>1458</td>\n",
       "    </tr>\n",
       "    <tr>\n",
       "      <th>has_cancer</th>\n",
       "      <td>1112</td>\n",
       "      <td>2684</td>\n",
       "    </tr>\n",
       "  </tbody>\n",
       "</table>\n",
       "</div>"
      ],
      "text/plain": [
       "            predicted_healthy  predicted_cancer\n",
       "is_healthy               2141              1458\n",
       "has_cancer               1112              2684"
      ]
     },
     "execution_count": 59,
     "metadata": {},
     "output_type": "execute_result"
    }
   ],
   "source": [
    "conmat = np.array(confusion_matrix(y, y_pred))\n",
    "\n",
    "confusion = pd.DataFrame(conmat, index=['is_healthy', 'has_cancer'],\n",
    "                         columns=['predicted_healthy', 'predicted_cancer'])\n",
    "confusion"
   ]
  },
  {
   "cell_type": "code",
   "execution_count": 60,
   "metadata": {
    "collapsed": true
   },
   "outputs": [],
   "source": [
    "from sklearn.metrics import classification_report\n"
   ]
  },
  {
   "cell_type": "code",
   "execution_count": 61,
   "metadata": {
    "collapsed": false
   },
   "outputs": [
    {
     "name": "stdout",
     "output_type": "stream",
     "text": [
      "             precision    recall  f1-score   support\n",
      "\n",
      "          0       0.66      0.59      0.62      3599\n",
      "          1       0.65      0.71      0.68      3796\n",
      "\n",
      "avg / total       0.65      0.65      0.65      7395\n",
      "\n"
     ]
    }
   ],
   "source": [
    "cls_rep = classification_report(y, y_pred)\n",
    "print(cls_rep)"
   ]
  },
  {
   "cell_type": "code",
   "execution_count": 63,
   "metadata": {
    "collapsed": false
   },
   "outputs": [
    {
     "name": "stdout",
     "output_type": "stream",
     "text": [
      "   prob_no_cancer  prob_cancer\n",
      "0        0.870254     0.129746\n",
      "1        0.662704     0.337296\n",
      "2        0.336420     0.663580\n",
      "3        0.362152     0.637848\n",
      "4        0.544059     0.455941\n",
      "5        0.490135     0.509865\n",
      "6        0.731525     0.268475\n",
      "7        0.320355     0.679645\n",
      "8        0.597507     0.402493\n",
      "9        0.380146     0.619854\n"
     ]
    }
   ],
   "source": [
    "# Get the predicted probability vector\n",
    "y_pp = pd.DataFrame(logit.predict_proba(x_test), columns=['prob_no_cancer','prob_cancer'])\n",
    "print(y_pp.iloc[0:10])"
   ]
  },
  {
   "cell_type": "code",
   "execution_count": 64,
   "metadata": {
    "collapsed": false
   },
   "outputs": [
    {
     "name": "stdout",
     "output_type": "stream",
     "text": [
      "(array([ 0.        ,  0.        ,  0.00168776, ...,  0.99831224,\n",
      "        0.99831224,  1.        ]), array([  7.96178344e-04,   7.96178344e-03,   7.96178344e-03, ...,\n",
      "         9.99203822e-01,   1.00000000e+00,   1.00000000e+00]), array([ 2.55237825,  1.73598461,  1.71817747, ..., -2.62845464,\n",
      "       -2.69278638, -3.48983903]))\n"
     ]
    },
    {
     "data": {
      "image/png": "[encoded data removed]",
      "text/plain": [
       "<matplotlib.figure.Figure at 0x10dd65310>"
      ]
     },
     "metadata": {},
     "output_type": "display_data"
    }
   ],
   "source": [
    "from sklearn.metrics import roc_curve, auc\n",
    "import matplotlib.pyplot as plt\n",
    "plt.style.use('seaborn-white')\n",
    "%matplotlib inline\n",
    "\n",
    "\n",
    "y_score = logit.decision_function(x_test)\n",
    "\n",
    "FPR = dict()\n",
    "TPR = dict()\n",
    "ROC_AUC = dict() # {}\n",
    "\n",
    "# For class 1, find the area under the curve\n",
    "\n",
    "print roc_curve(y_test, y_score)\n",
    "\n",
    "FPR[1], TPR[1], _ = roc_curve(y_test, y_score)\n",
    "ROC_AUC[1] = auc(FPR[1], TPR[1])\n",
    "\n",
    "\n",
    "# Plot of a ROC curve for class 1 (has_cancer)\n",
    "plt.figure(figsize=[11,9])\n",
    "plt.plot(FPR[1], TPR[1], label='ROC curve (area = %0.2f)' % ROC_AUC[1], linewidth=4)\n",
    "plt.plot([0, 1], [0, 1], 'k--', linewidth=4)\n",
    "plt.xlim([0.0, 1.0])\n",
    "plt.ylim([0.0, 1.05])\n",
    "plt.xlabel('False Positive Rate', fontsize=18)\n",
    "plt.ylabel('True Positive Rate', fontsize=18)\n",
    "plt.title('Receiver operating characteristic for cancer detection', fontsize=18)\n",
    "plt.legend(loc=\"lower right\")\n",
    "plt.show()"
   ]
  },
  {
   "cell_type": "code",
   "execution_count": null,
   "metadata": {
    "collapsed": true
   },
   "outputs": [],
   "source": []
  }
 ],
 "metadata": {
  "anaconda-cloud": {},
  "kernelspec": {
   "display_name": "Python [lesson01]",
   "language": "python",
   "name": "Python [lesson01]"
  },
  "language_info": {
   "codemirror_mode": {
    "name": "ipython",
    "version": 2
   },
   "file_extension": ".py",
   "mimetype": "text/x-python",
   "name": "python",
   "nbconvert_exporter": "python",
   "pygments_lexer": "ipython2",
   "version": "2.7.12"
  }
 },
 "nbformat": 4,
 "nbformat_minor": 0
}
